{
 "cells": [
  {
   "cell_type": "code",
   "execution_count": null,
   "id": "640695ea",
   "metadata": {},
   "outputs": [],
   "source": [
    "import matplotlib.pyplot as plt\n",
    "import seaborn as sns\n",
    "from src.utils.data_loader import SynergyDataLoader"
   ]
  },
  {
   "cell_type": "code",
   "execution_count": null,
   "id": "6c1edf76",
   "metadata": {},
   "outputs": [],
   "source": [
    "# Merge multiple annotators\n",
    "df.groupby(\"comment_id\")[labels].apply(mode).mean().apply(np.ceil)\n",
    "\n",
    "# Binary thresholding\n",
    "if x[\"hate_speech_score\"] > 0.5:\n",
    "    return x\n",
    "else:\n",
    "    x[labels] = 0\n",
    "    x[\"no_hate\"] = 1"
   ]
  }
 ],
 "metadata": {
  "kernelspec": {
   "display_name": "Python (transynergy)",
   "language": "python",
   "name": "transynergy"
  },
  "language_info": {
   "name": "python",
   "version": "3.8.20"
  }
 },
 "nbformat": 4,
 "nbformat_minor": 5
}
