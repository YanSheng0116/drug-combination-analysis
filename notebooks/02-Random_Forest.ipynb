{
 "cells": [
  {
   "cell_type": "code",
   "execution_count": null,
   "id": "640695ea",
   "metadata": {},
   "outputs": [],
   "source": [
    "import matplotlib.pyplot as plt\n",
    "import seaborn as sns\n",
    "from src.utils.data_loader import SynergyDataLoader"
   ]
  },
  {
   "cell_type": "code",
   "execution_count": null,
   "id": "6c1edf76",
   "metadata": {},
   "outputs": [],
   "source": []
  }
 ],
 "metadata": {
  "kernelspec": {
   "display_name": "Python (transynergy)",
   "language": "python",
   "name": "transynergy"
  },
  "language_info": {
   "name": "python",
   "version": "3.8.20"
  }
 },
 "nbformat": 4,
 "nbformat_minor": 5
}
