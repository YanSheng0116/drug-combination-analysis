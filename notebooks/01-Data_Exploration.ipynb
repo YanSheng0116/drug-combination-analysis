{
 "cells": [
  {
   "cell_type": "code",
   "execution_count": 3,
   "id": "9cbe2ffa",
   "metadata": {},
   "outputs": [],
   "source": [
    "import pandas as pd"
   ]
  },
  {
   "cell_type": "code",
   "execution_count": null,
   "id": "585ef3a9",
   "metadata": {},
   "outputs": [
    {
     "name": "stdout",
     "output_type": "stream",
     "text": [
      "genes length: 2401\n"
     ]
    }
   ],
   "source": [
    "# Step 1: Load 2401‐Gene List\n",
    "# Input: genes_2401_df.csv\n",
    "# Action: Read one‐column CSV into a list of 2401 Entrez IDs\n",
    "# Output: genes list\n",
    "genes_df = pd.read_csv(\"../data/external/genes_2401_df.csv\", header=0)\n",
    "genes = genes_df[\"entrez\"].astype(int).tolist()\n",
    "print(\"genes length:\", len(genes))  # → 2401\n"
   ]
  },
  {
   "cell_type": "code",
   "execution_count": null,
   "id": "28d2435c",
   "metadata": {},
   "outputs": [],
   "source": [
    "#Step2: Build Normalized PPI Adjacency (W_norm)\n",
    "# Input: data/external/string_network (EntrezID1, EntrezID2, weight)\n",
    "\n",
    "# Action:\n",
    "# 1. Load edge list into edges DataFrame\n",
    "# 2. G = nx.from_pandas_edgelist(edges, …)\n",
    "# 3. W = nx.adjacency_matrix(G, nodelist=genes, weight=\"weight\", format=\"csr\")\n",
    "# 4. Row‐normalize → W_norm = D⁻¹·W\n",
    "print(\"W_norm shape:\", W_norm.shape)  # → (2401, 2401)\n",
    "print(\"density:\", W_norm.nnz / (2401**2))\n"
   ]
  }
 ],
 "metadata": {
  "kernelspec": {
   "display_name": "Python (transynergy)",
   "language": "python",
   "name": "transynergy"
  },
  "language_info": {
   "codemirror_mode": {
    "name": "ipython",
    "version": 3
   },
   "file_extension": ".py",
   "mimetype": "text/x-python",
   "name": "python",
   "nbconvert_exporter": "python",
   "pygments_lexer": "ipython3",
   "version": "3.8.20"
  }
 },
 "nbformat": 4,
 "nbformat_minor": 5
}
